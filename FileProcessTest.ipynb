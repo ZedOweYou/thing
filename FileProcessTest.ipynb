{
 "cells": [
  {
   "cell_type": "code",
   "execution_count": 31,
   "id": "93445c2d-be80-4f5e-9ef2-11c95a039196",
   "metadata": {},
   "outputs": [],
   "source": [
    "import pandas as pd\n",
    "import numpy as np"
   ]
  },
  {
   "cell_type": "code",
   "execution_count": 32,
   "id": "1fe35c6f-9aa9-4797-82c4-fc3bc62fa937",
   "metadata": {},
   "outputs": [],
   "source": [
    "#input ([list of string file names])\n",
    "def read_csv_files(files):\n",
    "    #todo:\n",
    "    \"\"\"\n",
    "        1. error handling for incorrect file names\n",
    "    \"\"\"\n",
    "    dfs = []\n",
    "    #stitch multiple files together (assuming same format)\n",
    "    for file in files:\n",
    "        dfs.append(pd.read_csv(file))\n",
    "    data = pd.concat(dfs, axis=0, ignore_index=True)\n",
    "    return data.sort_values(by=[\"date\",\"lkid\",\"analyst\",\"sector\"])"
   ]
  },
  {
   "cell_type": "code",
   "execution_count": 33,
   "id": "6cba5975-41c4-4c32-8082-411ac646b5e8",
   "metadata": {},
   "outputs": [],
   "source": [
    "#input (dataframe of practical.csv format, flag to return columns with errors)\n",
    "def validate(data, return_errors=True):\n",
    "    \n",
    "    #todo:\n",
    "    \"\"\"\n",
    "        1.confirm requirements for validations (can values be empty? can there be extra columns? duplicate rows?)\n",
    "        2.add additional validations for scenario as needed\n",
    "        3.additional date validation (validate actual dates not just date format)\n",
    "    \"\"\"\n",
    "    \n",
    "    #add columns to flag error rows and provide reason\n",
    "    data[\"error\"] = False\n",
    "    data[\"reasons\"] = \"\"\n",
    "    \n",
    "    #all error text edited here instead of in code logic\n",
    "    reasons = {\n",
    "        \"date\": \"incorrect date\",\n",
    "        \"lkid_ticker\": \"lkid ticker mismatch\",\n",
    "    }\n",
    "    \n",
    "    #date check\n",
    "    data[\"date\"]= data[\"date\"].apply(str)\n",
    "    data[\"reasons\"]= np.where(data[\"date\"].str.len() != 8, data[\"reasons\"]+ \" \"+reasons[\"date\"]+ \" |\", data[\"reasons\"])\n",
    "    \n",
    "    #lkid vs ticker check (example validation, doesn't exist in this data set)\n",
    "    data[\"reasons\"]= np.where(data[\"lkid\"].str.split(\"_\").str[0] != data[\"ticker\"], data[\"reasons\"]+ \" \"+reasons[\"lkid_ticker\"]+ \n",
    "                              \" |\", data[\"reasons\"])\n",
    "    \n",
    "  \n",
    "    #flag errors\n",
    "    data[\"error\"] = np.where(data[\"reasons\"].str.len() !=0 , True, False)\n",
    "    \n",
    "    #optionally return data with or without error rows\n",
    "    #all error rows have reasons attached if process would include manual fix\n",
    "    if return_errors:\n",
    "        return data\n",
    "    \n",
    "    #for this demo error rows are skipped in the full processing method\n",
    "    else:\n",
    "        return data[data[\"error\"]==False]\n"
   ]
  },
  {
   "cell_type": "code",
   "execution_count": 34,
   "id": "d89e7d83-9544-44a1-b803-88a7ffd199e6",
   "metadata": {},
   "outputs": [],
   "source": [
    "#input (dataframe of practical.csv format post validation)\n",
    "def aggregate(data):\n",
    "    #todo:\n",
    "    \"\"\"\n",
    "        1. check for non empty table after errors rows filtered out\n",
    "    \"\"\"\n",
    "    data = pd.pivot_table(data,\n",
    "                          index=[\"date\",\"lkid\"],\n",
    "                          aggfunc={\"ticker\":\"first\",\"analyst\":\"first\",\"sector\":\"first\",\"pal\":\"sum\",\"exposure\":\"sum\"}\n",
    "                         ).reset_index()\n",
    "    return data"
   ]
  },
  {
   "cell_type": "code",
   "execution_count": 35,
   "id": "8a85cea6-5526-4d04-878c-73aa9025c734",
   "metadata": {},
   "outputs": [],
   "source": [
    "#input (dataframe of practical.csv format post aggregate, dictionary renames)\n",
    "def patch_sector_tag(data,renames):\n",
    "    for rename in renames:\n",
    "        data[\"sector\"] = np.where(data[\"sector\"] == rename,  renames[rename],  data[\"sector\"])\n",
    "    return data"
   ]
  },
  {
   "cell_type": "code",
   "execution_count": 36,
   "id": "c6b8bff2-a7c2-4af9-af5b-25ef8979e4c6",
   "metadata": {},
   "outputs": [],
   "source": [
    "#input (dataframe of practical.csv format post aggregate)\n",
    "def calculate_daily_returns(data):\n",
    "    #get begin day capital\n",
    "    capital = pd.pivot_table(data,\n",
    "                      index=[\"date\"],\n",
    "                      aggfunc={\"exposure\":\"sum\"},\n",
    "                     )\n",
    "    capital[\"begin day capital\"] = capital[\"exposure\"].shift(1)\n",
    "    del capital[\"exposure\"]\n",
    "    data = pd.merge(left=data,right=capital,on=\"date\",how=\"left\")\n",
    "    #get begin day capital of first day\n",
    "    total = data.loc[data[\"date\"] == data.iloc[0][\"date\"], \"exposure\"].sum() - data.loc[data[\"date\"] == data.iloc[0][\"date\"], \"pal\"].sum()\n",
    "    data[\"begin day capital\"] = np.where(data[\"date\"] == data.iloc[0][\"date\"], total , data[\"begin day capital\"])\n",
    "    data[\"daily return\"] = data[\"pal\"]/data[\"begin day capital\"]\n",
    "    del data[\"begin day capital\"]\n",
    "    \n",
    "    return data"
   ]
  },
  {
   "cell_type": "code",
   "execution_count": 47,
   "id": "65f960cd-5529-42e7-b9a5-5d0213c9bc65",
   "metadata": {},
   "outputs": [],
   "source": [
    "#input ([list of file names], {dictionary of sector renames}, result file name, use error rows flag)\n",
    "def process(files,renames={},save_name=\"blotter_new.csv\",return_errors=False,show_errors=False):\n",
    "    file_to_table = read_csv_files(files)\n",
    "    if show_errors:\n",
    "        validate(file_to_table, return_errors=True).to_csv(save_name,index=False)\n",
    "        return \n",
    "    table_validated = validate(file_to_table, return_errors)\n",
    "    table_agg = aggregate(table_validated)\n",
    "    patched_names = patch_sector_tag(table_agg,renames)\n",
    "    daily_returns = calculate_daily_returns(patched_names)\n",
    "    daily_returns.to_csv(save_name,index=False)\n",
    "    return"
   ]
  },
  {
   "cell_type": "code",
   "execution_count": 48,
   "id": "b5f50970-0e06-49b8-9175-0c314508c7d1",
   "metadata": {},
   "outputs": [],
   "source": [
    "#process file as per requirements\n",
    "process([\"practical.csv\"],{\"Technology\":\"Information Technology\"})"
   ]
  },
  {
   "cell_type": "code",
   "execution_count": 51,
   "id": "ce916419-c3c3-4d85-8953-7b6b983b3062",
   "metadata": {},
   "outputs": [],
   "source": [
    "#demo of row validation results\n",
    "process([\"practical.csv\"],save_name=\"errors.csv\",show_errors=True)"
   ]
  },
  {
   "cell_type": "code",
   "execution_count": null,
   "id": "a552c7b0-65e5-4997-b4e7-2aafb780dce4",
   "metadata": {},
   "outputs": [],
   "source": []
  }
 ],
 "metadata": {
  "kernelspec": {
   "display_name": "Python 3 (ipykernel)",
   "language": "python",
   "name": "python3"
  },
  "language_info": {
   "codemirror_mode": {
    "name": "ipython",
    "version": 3
   },
   "file_extension": ".py",
   "mimetype": "text/x-python",
   "name": "python",
   "nbconvert_exporter": "python",
   "pygments_lexer": "ipython3",
   "version": "3.9.13"
  }
 },
 "nbformat": 4,
 "nbformat_minor": 5
}
